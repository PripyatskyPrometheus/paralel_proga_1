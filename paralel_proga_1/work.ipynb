{
 "cells": [
  {
   "cell_type": "code",
   "execution_count": 38,
   "metadata": {},
   "outputs": [
    {
     "name": "stdout",
     "output_type": "stream",
     "text": [
      "Результаты совпадают\n"
     ]
    }
   ],
   "source": [
    "import numpy as np\n",
    "\n",
    "\n",
    "def read_matrix_from_file(filename):\n",
    "    with open(filename, 'r') as file:\n",
    "        lines = file.readlines()\n",
    "        matrix = [[int(x) for x in line.split()] for line in lines[1:]]\n",
    "    return np.array(matrix)\n",
    "\n",
    "\n",
    "matrix_1 = read_matrix_from_file(\"matrix_1.txt\")\n",
    "matrix_2 = read_matrix_from_file(\"matrix_2.txt\")\n",
    "result_matrix = read_matrix_from_file(\"result_matrix.txt\")\n",
    "\n",
    "result_matrix_python = np.dot(matrix_1, matrix_2)\n",
    "\n",
    "if np.array_equal(result_matrix_python, result_matrix):\n",
    "    print(\"Результаты совпадают\")\n",
    "else:\n",
    "    print(\"Результаты не совпадают\")"
   ]
  },
  {
   "cell_type": "code",
   "execution_count": 36,
   "metadata": {},
   "outputs": [],
   "source": [
    "import matplotlib.pyplot as plt\n",
    "import scipy.stats as sts\n",
    "import statistics as st\n",
    "import pandas as pd\n",
    "\n",
    "\n",
    "def read_results(filename):\n",
    "    sizes = []\n",
    "    computation_times = []\n",
    "    with open(filename, 'r') as file:\n",
    "        while True:\n",
    "            tmp = []\n",
    "            size_line = file.readline().strip()\n",
    "            if not size_line:\n",
    "                break\n",
    "            size = int(size_line)\n",
    "            task_size = int(file.readline().strip())\n",
    "            for i in range(0, 10):\n",
    "                comp_time = file.readline().strip()\n",
    "                if not comp_time:\n",
    "                    break\n",
    "                tmp.append(int(comp_time))\n",
    "\n",
    "            sizes.append(size)\n",
    "            computation_times.append(tmp)\n",
    "    return sizes, computation_times\n",
    "\n",
    "\n",
    "def plot_intervals(sizes, intervals):\n",
    "    means = [interval[0] for interval in intervals]\n",
    "    lower_bounds = [interval[1][0] for interval in intervals]\n",
    "    upper_bounds = [interval[1][1] for interval in intervals]\n",
    "\n",
    "    plt.errorbar(sizes, means, yerr=[(upper-lower)/2 for upper, lower in zip(upper_bounds, lower_bounds)], fmt='o-', capsize=5)\n",
    "    plt.xlabel('Размер матрицы')\n",
    "    plt.ylabel('Время умножения')\n",
    "    plt.grid(True)\n",
    "    plt.show()\n",
    "\n",
    "\n",
    "def get_intervals(computation_times):\n",
    "    gamma = 0.95\n",
    "    intervals = []\n",
    "    for time in computation_times:\n",
    "        n = len(time)\n",
    "        x_mean = np.mean(time)\n",
    "        s = np.sqrt(st.variance(time))\n",
    "        confidence_interval = sts.t.interval(gamma, df=n-1, loc=x_mean, scale=s/np.sqrt(n))\n",
    "        intervals.append([x_mean, confidence_interval])\n",
    "    return intervals\n",
    "\n",
    "\n",
    "sizes, computation_times = read_results(\"stats.txt\")\n",
    "arr = pd.DataFrame({\"sizes\":sizes, \"times\":computation_times})\n",
    "intervals = get_intervals(computation_times)"
   ]
  },
  {
   "cell_type": "code",
   "execution_count": 31,
   "metadata": {},
   "outputs": [
    {
     "data": {
      "text/html": [
       "<div>\n",
       "<style scoped>\n",
       "    .dataframe tbody tr th:only-of-type {\n",
       "        vertical-align: middle;\n",
       "    }\n",
       "\n",
       "    .dataframe tbody tr th {\n",
       "        vertical-align: top;\n",
       "    }\n",
       "\n",
       "    .dataframe thead th {\n",
       "        text-align: right;\n",
       "    }\n",
       "</style>\n",
       "<table border=\"1\" class=\"dataframe\">\n",
       "  <thead>\n",
       "    <tr style=\"text-align: right;\">\n",
       "      <th></th>\n",
       "      <th>sizes</th>\n",
       "      <th>times</th>\n",
       "    </tr>\n",
       "  </thead>\n",
       "  <tbody>\n",
       "    <tr>\n",
       "      <th>0</th>\n",
       "      <td>100</td>\n",
       "      <td>[9, 9, 8, 11, 11, 8, 8, 8, 8, 9]</td>\n",
       "    </tr>\n",
       "    <tr>\n",
       "      <th>1</th>\n",
       "      <td>200</td>\n",
       "      <td>[46, 43, 45, 48, 44, 62, 53, 43, 38, 39]</td>\n",
       "    </tr>\n",
       "    <tr>\n",
       "      <th>2</th>\n",
       "      <td>300</td>\n",
       "      <td>[107, 132, 131, 108, 104, 106, 108, 119, 103, ...</td>\n",
       "    </tr>\n",
       "    <tr>\n",
       "      <th>3</th>\n",
       "      <td>400</td>\n",
       "      <td>[241, 224, 231, 247, 218, 231, 262, 226, 216, ...</td>\n",
       "    </tr>\n",
       "    <tr>\n",
       "      <th>4</th>\n",
       "      <td>500</td>\n",
       "      <td>[402, 448, 423, 462, 502, 431, 434, 544, 485, ...</td>\n",
       "    </tr>\n",
       "    <tr>\n",
       "      <th>5</th>\n",
       "      <td>600</td>\n",
       "      <td>[759, 856, 926, 701, 720, 720, 697, 754, 729, ...</td>\n",
       "    </tr>\n",
       "    <tr>\n",
       "      <th>6</th>\n",
       "      <td>700</td>\n",
       "      <td>[1141, 1138, 1122, 1179, 1098, 1093, 1080, 109...</td>\n",
       "    </tr>\n",
       "    <tr>\n",
       "      <th>7</th>\n",
       "      <td>800</td>\n",
       "      <td>[1968, 1949, 2030, 1826, 1991, 1952, 1958, 187...</td>\n",
       "    </tr>\n",
       "    <tr>\n",
       "      <th>8</th>\n",
       "      <td>900</td>\n",
       "      <td>[2576, 2649, 2865, 2770, 2836, 2354, 2582, 240...</td>\n",
       "    </tr>\n",
       "    <tr>\n",
       "      <th>9</th>\n",
       "      <td>1000</td>\n",
       "      <td>[4273, 4148, 4301, 4472, 4377, 4412, 4823, 425...</td>\n",
       "    </tr>\n",
       "  </tbody>\n",
       "</table>\n",
       "</div>"
      ],
      "text/plain": [
       "   sizes                                              times\n",
       "0    100                   [9, 9, 8, 11, 11, 8, 8, 8, 8, 9]\n",
       "1    200           [46, 43, 45, 48, 44, 62, 53, 43, 38, 39]\n",
       "2    300  [107, 132, 131, 108, 104, 106, 108, 119, 103, ...\n",
       "3    400  [241, 224, 231, 247, 218, 231, 262, 226, 216, ...\n",
       "4    500  [402, 448, 423, 462, 502, 431, 434, 544, 485, ...\n",
       "5    600  [759, 856, 926, 701, 720, 720, 697, 754, 729, ...\n",
       "6    700  [1141, 1138, 1122, 1179, 1098, 1093, 1080, 109...\n",
       "7    800  [1968, 1949, 2030, 1826, 1991, 1952, 1958, 187...\n",
       "8    900  [2576, 2649, 2865, 2770, 2836, 2354, 2582, 240...\n",
       "9   1000  [4273, 4148, 4301, 4472, 4377, 4412, 4823, 425..."
      ]
     },
     "execution_count": 31,
     "metadata": {},
     "output_type": "execute_result"
    }
   ],
   "source": [
    "arr"
   ]
  },
  {
   "cell_type": "code",
   "execution_count": 37,
   "metadata": {},
   "outputs": [
    {
     "data": {
      "image/png": "[encoded data removed]",
      "text/plain": [
       "<Figure size 640x480 with 1 Axes>"
      ]
     },
     "metadata": {},
     "output_type": "display_data"
    }
   ],
   "source": [
    "plot_intervals(sizes, intervals)"
   ]
  }
 ],
 "metadata": {
  "kernelspec": {
   "display_name": ".venv",
   "language": "python",
   "name": "python3"
  },
  "language_info": {
   "codemirror_mode": {
    "name": "ipython",
    "version": 3
   },
   "file_extension": ".py",
   "mimetype": "text/x-python",
   "name": "python",
   "nbconvert_exporter": "python",
   "pygments_lexer": "ipython3",
   "version": "3.9.13"
  }
 },
 "nbformat": 4,
 "nbformat_minor": 2
}
